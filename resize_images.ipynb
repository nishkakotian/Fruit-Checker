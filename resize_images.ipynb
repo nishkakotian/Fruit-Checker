{
 "cells": [
  {
   "cell_type": "code",
   "execution_count": 4,
   "metadata": {},
   "outputs": [],
   "source": [
    "#To resize images to 224*224\n",
    "\n",
    "import os\n",
    "import cv2\n",
    "\n",
    "path='/home/nishka/Downloads/archive/dataset'\n",
    "\n",
    "for fruit_category in os.listdir(path+'/train'):\n",
    "    cat=os.path.join(path+'/train',fruit_category)\n",
    "    count=0\n",
    "    for filename in os.listdir(cat):\n",
    "        img=cv2.imread(os.path.join(cat,filename))\n",
    "        dim=(224,224)\n",
    "        new_img=cv2.resize(img,dim)\n",
    "        cv2.imwrite(path+'/RESIZED/'+fruit_category+'/'+filename,new_img)\n",
    "        count+=1\n",
    "        #take only first 100 images\n",
    "        if count==100:\n",
    "            break"
   ]
  },
  {
   "cell_type": "code",
   "execution_count": 5,
   "metadata": {},
   "outputs": [],
   "source": [
    "#Resize images in test folder\n",
    "\n",
    "for fruit_category in os.listdir(path+'/test'):\n",
    "    cat=os.path.join(path+'/test',fruit_category)\n",
    "    count=0\n",
    "    for filename in os.listdir(cat):\n",
    "        img=cv2.imread(os.path.join(cat,filename))\n",
    "        dim=(224,224)\n",
    "        new_img=cv2.resize(img,dim)\n",
    "        cv2.imwrite(path+'/RESIZED_TEST/'+fruit_category+'/'+filename,new_img)\n",
    "        count+=1\n",
    "        #take only first 100 images\n",
    "        if count==50:\n",
    "            break"
   ]
  },
  {
   "cell_type": "code",
   "execution_count": null,
   "metadata": {},
   "outputs": [],
   "source": []
  }
 ],
 "metadata": {
  "kernelspec": {
   "display_name": "Python 3",
   "language": "python",
   "name": "python3"
  },
  "language_info": {
   "codemirror_mode": {
    "name": "ipython",
    "version": 3
   },
   "file_extension": ".py",
   "mimetype": "text/x-python",
   "name": "python",
   "nbconvert_exporter": "python",
   "pygments_lexer": "ipython3",
   "version": "3.8.3"
  }
 },
 "nbformat": 4,
 "nbformat_minor": 4
}
